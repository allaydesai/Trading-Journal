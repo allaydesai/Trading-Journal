{
 "cells": [
  {
   "cell_type": "code",
   "execution_count": 1,
   "metadata": {},
   "outputs": [
    {
     "name": "stderr",
     "output_type": "stream",
     "text": [
      "/tmp/ipykernel_495581/4259107160.py:1: DeprecationWarning: \n",
      "Pyarrow will become a required dependency of pandas in the next major release of pandas (pandas 3.0),\n",
      "(to allow more performant data types, such as the Arrow string type, and better interoperability with other libraries)\n",
      "but was not found to be installed on your system.\n",
      "If this would cause problems for you,\n",
      "please provide us feedback at https://github.com/pandas-dev/pandas/issues/54466\n",
      "        \n",
      "  import pandas as pd\n"
     ]
    }
   ],
   "source": [
    "import pandas as pd\n",
    "import datetime as dt\n",
    "\n",
    "import database as db\n",
    "import ib_trades as ibt"
   ]
  },
  {
   "cell_type": "code",
   "execution_count": 2,
   "metadata": {},
   "outputs": [],
   "source": [
    "# Global variables for database and table names\n",
    "DB_FILE = '/home/allay/servershare/trading_data.db'\n",
    "TABLE_NAME = 'trades'\n",
    "CREATE_TABLE = True\n",
    "QUERY = 957448361226423544216934\n",
    "QUERY_ID = 904255"
   ]
  },
  {
   "cell_type": "code",
   "execution_count": 3,
   "metadata": {},
   "outputs": [],
   "source": [
    "# get today's date and store in a variable\n",
    "today = dt.date.today()\n",
    "trades_data_file = '/home/allay/servershare/'+today.strftime('%Y-%m-%d')+'_ibkr.xml'"
   ]
  },
  {
   "cell_type": "code",
   "execution_count": 4,
   "metadata": {},
   "outputs": [],
   "source": [
    "# Download the trades data from IBKR\n",
    "ibt.download_trades(trades_data_file, QUERY, QUERY_ID)\n",
    "\n",
    "trades = ibt.extract_trades_from_file(trades_data_file)\n",
    "df_trades = ibt.parse_trades_to_df(trades)"
   ]
  },
  {
   "cell_type": "code",
   "execution_count": 5,
   "metadata": {},
   "outputs": [
    {
     "name": "stdout",
     "output_type": "stream",
     "text": [
      "Imported 119 transactions with 32 attributes\n"
     ]
    }
   ],
   "source": [
    "print(f'Imported {df_trades.shape[0]} transactions with {df_trades.shape[1]} attributes')"
   ]
  },
  {
   "cell_type": "code",
   "execution_count": 6,
   "metadata": {},
   "outputs": [
    {
     "name": "stdout",
     "output_type": "stream",
     "text": [
      "<class 'pandas.core.frame.DataFrame'>\n",
      "RangeIndex: 119 entries, 0 to 118\n",
      "Data columns (total 32 columns):\n",
      " #   Column                Non-Null Count  Dtype         \n",
      "---  ------                --------------  -----         \n",
      " 0   accountId             119 non-null    object        \n",
      " 1   currency              119 non-null    object        \n",
      " 2   dateTime              119 non-null    datetime64[ns]\n",
      " 3   assetCategory         119 non-null    object        \n",
      " 4   symbol                119 non-null    object        \n",
      " 5   description           119 non-null    object        \n",
      " 6   conid                 119 non-null    object        \n",
      " 7   listingExchange       116 non-null    object        \n",
      " 8   multiplier            119 non-null    object        \n",
      " 9   strike                59 non-null     object        \n",
      " 10  expiry                59 non-null     object        \n",
      " 11  putCall               119 non-null    object        \n",
      " 12  tradeID               119 non-null    object        \n",
      " 13  transactionID         119 non-null    object        \n",
      " 14  reportDate            119 non-null    object        \n",
      " 15  tradeDate             119 non-null    object        \n",
      " 16  exchange              115 non-null    object        \n",
      " 17  quantity              119 non-null    object        \n",
      " 18  tradePrice            119 non-null    object        \n",
      " 19  netCash               119 non-null    object        \n",
      " 20  buySell               119 non-null    object        \n",
      " 21  ibOrderID             119 non-null    object        \n",
      " 22  openCloseIndicator    119 non-null    object        \n",
      " 23  orderType             119 non-null    object        \n",
      " 24  cost                  119 non-null    object        \n",
      " 25  fifoPnlRealized       119 non-null    object        \n",
      " 26  mtmPnl                119 non-null    object        \n",
      " 27  underlyingSymbol      59 non-null     object        \n",
      " 28  underlyingConid       59 non-null     object        \n",
      " 29  isAPIOrder            119 non-null    bool          \n",
      " 30  ibCommission          119 non-null    object        \n",
      " 31  ibCommissionCurrency  119 non-null    object        \n",
      "dtypes: bool(1), datetime64[ns](1), object(30)\n",
      "memory usage: 29.1+ KB\n"
     ]
    }
   ],
   "source": [
    "df_trades.info()"
   ]
  },
  {
   "cell_type": "code",
   "execution_count": 7,
   "metadata": {},
   "outputs": [
    {
     "data": {
      "text/plain": [
       "accountId                          U6446960\n",
       "currency                                USD\n",
       "dateTime                2024-02-29 16:01:43\n",
       "assetCategory                         STOCK\n",
       "symbol                                 AMZN\n",
       "description                  AMAZON.COM INC\n",
       "conid                               3691937\n",
       "listingExchange                      NASDAQ\n",
       "multiplier                                1\n",
       "strike                                 None\n",
       "expiry                                 None\n",
       "putCall                                None\n",
       "tradeID                           383380988\n",
       "transactionID                    2004415726\n",
       "reportDate                       2024-02-29\n",
       "tradeDate                        2024-02-29\n",
       "exchange                             ISLAND\n",
       "quantity                                  2\n",
       "tradePrice                           176.67\n",
       "netCash                             -354.34\n",
       "buySell                                 BUY\n",
       "ibOrderID                         238795384\n",
       "openCloseIndicator                     OPEN\n",
       "orderType                             LIMIT\n",
       "cost                                 354.34\n",
       "fifoPnlRealized                           0\n",
       "mtmPnl                                 0.18\n",
       "underlyingSymbol                       None\n",
       "underlyingConid                        None\n",
       "isAPIOrder                            False\n",
       "ibCommission                             -1\n",
       "ibCommissionCurrency                    USD\n",
       "Name: 0, dtype: object"
      ]
     },
     "execution_count": 7,
     "metadata": {},
     "output_type": "execute_result"
    }
   ],
   "source": [
    "df_trades.iloc[0]"
   ]
  },
  {
   "cell_type": "code",
   "execution_count": 8,
   "metadata": {},
   "outputs": [],
   "source": [
    "# Create a database connection\n",
    "conn = db.create_connection(DB_FILE)"
   ]
  },
  {
   "cell_type": "code",
   "execution_count": 16,
   "metadata": {},
   "outputs": [],
   "source": [
    "def insert_trade_row(conn, row):\n",
    "    \"\"\"\n",
    "    Insert a single row into the trades table, ensuring all data types match the table schema.\n",
    "    \"\"\"\n",
    "    sql_insert_trade = ''' INSERT INTO trades(accountId, currency, dateTime, assetCategory, symbol, description, conid,\n",
    "                            listingExchange, multiplier, strike, expiry, putCall, tradeID, transactionID, reportDate,\n",
    "                            tradeDate, exchange, quantity, tradePrice, netCash, buySell, ibOrderID, openCloseIndicator,\n",
    "                            orderType, cost, fifoPnlRealized, mtmPnl, underlyingSymbol, underlyingConid, isAPIOrder,\n",
    "                            ibCommission, ibCommissionCurrency)\n",
    "                          VALUES(?,?,?,?,?,?,?,?,?,?,?,?,?,?,?,?,?,?,?,?,?,?,?,?,?,?,?,?,?,?,?,?) '''\n",
    "\n",
    "    # Convert dateTime, reportDate, and tradeDate to strings, and ensure numeric fields are properly formatted\n",
    "    formatted_row = row.copy()\n",
    "    formatted_row['dateTime'] = row['dateTime'].strftime('%Y-%m-%d %H:%M:%S') if row['dateTime'] else None\n",
    "    formatted_row['reportDate'] = row['reportDate'].strftime('%Y-%m-%d') if row['reportDate'] else None\n",
    "    formatted_row['tradeDate'] = row['tradeDate'].strftime('%Y-%m-%d') if row['tradeDate'] else None\n",
    "\n",
    "    # Numeric fields conversion\n",
    "    numeric_fields = ['multiplier', 'strike', 'quantity', 'tradePrice', 'netCash', 'cost', 'fifoPnlRealized', 'mtmPnl', 'ibCommission']\n",
    "    for field in numeric_fields:\n",
    "        if formatted_row[field] is not None:\n",
    "            try:\n",
    "                formatted_row[field] = float(formatted_row[field])\n",
    "            except ValueError:\n",
    "                formatted_row[field] = None  # or some default value if appropriate\n",
    "\n",
    "    trade_data = (\n",
    "        formatted_row['accountId'], formatted_row['currency'], formatted_row['dateTime'], formatted_row['assetCategory'], formatted_row['symbol'], formatted_row['description'],\n",
    "        formatted_row['conid'], formatted_row['listingExchange'], formatted_row['multiplier'], formatted_row['strike'], formatted_row['expiry'], formatted_row['putCall'],\n",
    "        formatted_row['tradeID'], formatted_row['transactionID'], formatted_row['reportDate'], formatted_row['tradeDate'], formatted_row['exchange'], formatted_row['quantity'],\n",
    "        formatted_row['tradePrice'], formatted_row['netCash'], formatted_row['buySell'], formatted_row['ibOrderID'], formatted_row['openCloseIndicator'],\n",
    "        formatted_row['orderType'], formatted_row['cost'], formatted_row['fifoPnlRealized'], formatted_row['mtmPnl'], formatted_row['underlyingSymbol'],\n",
    "        formatted_row['underlyingConid'], str(formatted_row['isAPIOrder']), formatted_row['ibCommission'], formatted_row['ibCommissionCurrency']\n",
    "    )\n",
    "    \n",
    "    try:\n",
    "        c = conn.cursor()\n",
    "        c.execute(sql_insert_trade, trade_data)\n",
    "        conn.commit()\n",
    "        print(\"Trade row inserted successfully.\")\n",
    "    except sqlite3.Error as e:\n",
    "        print(e)\n"
   ]
  },
  {
   "cell_type": "code",
   "execution_count": 12,
   "metadata": {},
   "outputs": [],
   "source": [
    "import sqlite3"
   ]
  },
  {
   "cell_type": "code",
   "execution_count": 17,
   "metadata": {},
   "outputs": [
    {
     "name": "stdout",
     "output_type": "stream",
     "text": [
      "Trade row inserted successfully.\n"
     ]
    }
   ],
   "source": [
    "insert_trade_row(conn, df_trades.iloc[0])"
   ]
  },
  {
   "cell_type": "code",
   "execution_count": 18,
   "metadata": {},
   "outputs": [],
   "source": [
    "def fetch_last_trade_row(conn):\n",
    "    \"\"\"\n",
    "    Fetch and print the most recently added row in the trades table.\n",
    "    \"\"\"\n",
    "    sql_query = ''' SELECT * FROM trades ORDER BY id DESC LIMIT 1; '''\n",
    "    \n",
    "    try:\n",
    "        c = conn.cursor()\n",
    "        c.execute(sql_query)\n",
    "        row = c.fetchone()\n",
    "        if row:\n",
    "            # Assuming you want to print the row. Adjust column names as necessary.\n",
    "            print(\"Last added trade row:\")\n",
    "            columns = ['id', 'accountId', 'currency', 'dateTime', 'assetCategory', 'symbol', 'description', 'conid',\n",
    "                       'listingExchange', 'multiplier', 'strike', 'expiry', 'putCall', 'tradeID', 'transactionID', \n",
    "                       'reportDate', 'tradeDate', 'exchange', 'quantity', 'tradePrice', 'netCash', 'buySell', \n",
    "                       'ibOrderID', 'openCloseIndicator', 'orderType', 'cost', 'fifoPnlRealized', 'mtmPnl', \n",
    "                       'underlyingSymbol', 'underlyingConid', 'isAPIOrder', 'ibCommission', 'ibCommissionCurrency']\n",
    "            for i, column in enumerate(columns):\n",
    "                print(f\"{column}: {row[i]}\")\n",
    "        else:\n",
    "            print(\"No rows found in the trades table.\")\n",
    "    except sqlite3.Error as e:\n",
    "        print(e)\n",
    "\n",
    "# Example usage\n",
    "# Assuming 'conn' is your database connection\n",
    "# fetch_last_trade_row(conn)\n"
   ]
  },
  {
   "cell_type": "code",
   "execution_count": 19,
   "metadata": {},
   "outputs": [
    {
     "name": "stdout",
     "output_type": "stream",
     "text": [
      "Last added trade row:\n",
      "id: 1\n",
      "accountId: U6446960\n",
      "currency: USD\n",
      "dateTime: 2024-02-29 16:01:43\n",
      "assetCategory: STOCK\n",
      "symbol: AMZN\n",
      "description: AMAZON.COM INC\n",
      "conid: 3691937\n",
      "listingExchange: NASDAQ\n",
      "multiplier: 1.0\n",
      "strike: None\n",
      "expiry: None\n",
      "putCall: None\n",
      "tradeID: 383380988\n",
      "transactionID: 2004415726\n",
      "reportDate: 2024-02-29\n",
      "tradeDate: 2024-02-29\n",
      "exchange: ISLAND\n",
      "quantity: 2.0\n",
      "tradePrice: 176.67\n",
      "netCash: -354.34\n",
      "buySell: BUY\n",
      "ibOrderID: 238795384\n",
      "openCloseIndicator: OPEN\n",
      "orderType: LIMIT\n",
      "cost: 354.34\n",
      "fifoPnlRealized: 0.0\n",
      "mtmPnl: 0.18\n",
      "underlyingSymbol: None\n",
      "underlyingConid: None\n",
      "isAPIOrder: False\n",
      "ibCommission: -1.0\n",
      "ibCommissionCurrency: USD\n"
     ]
    }
   ],
   "source": [
    "fetch_last_trade_row(conn)"
   ]
  },
  {
   "cell_type": "code",
   "execution_count": 20,
   "metadata": {},
   "outputs": [],
   "source": [
    "def fetch_all_trade_rows(conn):\n",
    "    \"\"\"\n",
    "    Fetch and print all rows in the trades table.\n",
    "    \"\"\"\n",
    "    sql_query = ''' SELECT * FROM trades; '''\n",
    "    \n",
    "    try:\n",
    "        c = conn.cursor()\n",
    "        c.execute(sql_query)\n",
    "        rows = c.fetchall()\n",
    "        if rows:\n",
    "            print(\"All trade rows:\")\n",
    "            columns = ['id', 'accountId', 'currency', 'dateTime', 'assetCategory', 'symbol', 'description', 'conid',\n",
    "                       'listingExchange', 'multiplier', 'strike', 'expiry', 'putCall', 'tradeID', 'transactionID', \n",
    "                       'reportDate', 'tradeDate', 'exchange', 'quantity', 'tradePrice', 'netCash', 'buySell', \n",
    "                       'ibOrderID', 'openCloseIndicator', 'orderType', 'cost', 'fifoPnlRealized', 'mtmPnl', \n",
    "                       'underlyingSymbol', 'underlyingConid', 'isAPIOrder', 'ibCommission', 'ibCommissionCurrency']\n",
    "            for row in rows:\n",
    "                row_data = [f\"{column}: {value}\" for column, value in zip(columns, row)]\n",
    "                print(\", \".join(row_data))\n",
    "        else:\n",
    "            print(\"No rows found in the trades table.\")\n",
    "    except sqlite3.Error as e:\n",
    "        print(e)"
   ]
  },
  {
   "cell_type": "code",
   "execution_count": 21,
   "metadata": {},
   "outputs": [
    {
     "name": "stdout",
     "output_type": "stream",
     "text": [
      "All trade rows:\n",
      "id: 1, accountId: U6446960, currency: USD, dateTime: 2024-02-29 16:01:43, assetCategory: STOCK, symbol: AMZN, description: AMAZON.COM INC, conid: 3691937, listingExchange: NASDAQ, multiplier: 1.0, strike: None, expiry: None, putCall: None, tradeID: 383380988, transactionID: 2004415726, reportDate: 2024-02-29, tradeDate: 2024-02-29, exchange: ISLAND, quantity: 2.0, tradePrice: 176.67, netCash: -354.34, buySell: BUY, ibOrderID: 238795384, openCloseIndicator: OPEN, orderType: LIMIT, cost: 354.34, fifoPnlRealized: 0.0, mtmPnl: 0.18, underlyingSymbol: None, underlyingConid: None, isAPIOrder: False, ibCommission: -1.0, ibCommissionCurrency: USD\n"
     ]
    }
   ],
   "source": [
    "fetch_all_trade_rows(conn)"
   ]
  },
  {
   "cell_type": "code",
   "execution_count": null,
   "metadata": {},
   "outputs": [],
   "source": []
  }
 ],
 "metadata": {
  "kernelspec": {
   "display_name": "Python 3 (ipykernel)",
   "language": "python",
   "name": "python3"
  },
  "language_info": {
   "codemirror_mode": {
    "name": "ipython",
    "version": 3
   },
   "file_extension": ".py",
   "mimetype": "text/x-python",
   "name": "python",
   "nbconvert_exporter": "python",
   "pygments_lexer": "ipython3",
   "version": "3.10.12"
  }
 },
 "nbformat": 4,
 "nbformat_minor": 4
}
